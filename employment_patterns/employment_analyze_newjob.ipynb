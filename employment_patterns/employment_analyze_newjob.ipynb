{
 "cells": [
  {
   "cell_type": "code",
   "execution_count": 1,
   "metadata": {},
   "outputs": [
    {
     "name": "stdout",
     "output_type": "stream",
     "text": [
      "   participantId  jobId first_month last_month   count  job_time  employerId\n",
      "0              0    254     2022-03    2023-05  129278        14         424\n",
      "1              1    929     2022-03    2023-05  129278        14        1321\n",
      "2              2    348     2022-03    2023-05  129278        14         440\n",
      "3              3    316     2022-03    2023-05  129278        14         436\n",
      "4              4    177     2022-03    2023-05  129225        14         411\n"
     ]
    }
   ],
   "source": [
    "import pandas as pd\n",
    "\n",
    "# 从'first_last_month.csv'中读取数据\n",
    "first_last_month = pd.read_csv('first_last_month.csv')\n",
    "\n",
    "print(first_last_month.head())"
   ]
  },
  {
   "cell_type": "code",
   "execution_count": 2,
   "metadata": {},
   "outputs": [
    {
     "name": "stdout",
     "output_type": "stream",
     "text": [
      "(2829, 7)\n"
     ]
    }
   ],
   "source": [
    "# 输出数据的行数和列数\n",
    "print(first_last_month.shape)"
   ]
  },
  {
   "cell_type": "code",
   "execution_count": 3,
   "metadata": {},
   "outputs": [
    {
     "name": "stdout",
     "output_type": "stream",
     "text": [
      "(9, 7)\n"
     ]
    }
   ],
   "source": [
    "# 删除first_month为'2022-03'的行\n",
    "\n",
    "first_last_month = first_last_month[first_last_month['first_month'] != '2022-03']\n",
    "\n",
    "print(first_last_month.shape)\n"
   ]
  },
  {
   "cell_type": "code",
   "execution_count": 4,
   "metadata": {},
   "outputs": [
    {
     "name": "stdout",
     "output_type": "stream",
     "text": [
      "first_month\n",
      "2022-04    9\n",
      "Name: count, dtype: int64\n"
     ]
    }
   ],
   "source": [
    "# 统计last_month出现的次数\n",
    "print(first_last_month['first_month'].value_counts())"
   ]
  },
  {
   "cell_type": "code",
   "execution_count": null,
   "metadata": {},
   "outputs": [],
   "source": []
  }
 ],
 "metadata": {
  "kernelspec": {
   "display_name": "tf",
   "language": "python",
   "name": "python3"
  },
  "language_info": {
   "codemirror_mode": {
    "name": "ipython",
    "version": 3
   },
   "file_extension": ".py",
   "mimetype": "text/x-python",
   "name": "python",
   "nbconvert_exporter": "python",
   "pygments_lexer": "ipython3",
   "version": "3.9.18"
  }
 },
 "nbformat": 4,
 "nbformat_minor": 2
}
