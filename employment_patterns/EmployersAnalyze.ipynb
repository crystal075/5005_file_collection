{
 "cells": [
  {
   "cell_type": "code",
   "execution_count": 8,
   "metadata": {},
   "outputs": [
    {
     "name": "stdout",
     "output_type": "stream",
     "text": [
      "   employerId                                       location  buildingId\n",
      "0         379  POINT (-1849.997168394888 1744.6010147106394)         823\n",
      "1         380    POINT (41.51783767879146 418.7264799744545)         154\n",
      "2         381   POINT (877.2786575380362 1358.5441805909259)         279\n",
      "3         382   POINT (670.3987400004884 1584.4743462106067)           3\n",
      "4         383   POINT (829.9556783260775 2163.4803049897623)         146\n"
     ]
    }
   ],
   "source": [
    "# 导入\"employers.csv\"\n",
    "import pandas as pd\n",
    "\n",
    "df = pd.read_csv('./Attributes/Employers.csv')\n",
    "\n",
    "print(df.head())"
   ]
  },
  {
   "cell_type": "code",
   "execution_count": 9,
   "metadata": {},
   "outputs": [
    {
     "name": "stdout",
     "output_type": "stream",
     "text": [
      "        employerId   buildingId\n",
      "count   253.000000   253.000000\n",
      "mean   1089.059289   517.778656\n",
      "std     507.094228   303.345131\n",
      "min     379.000000     3.000000\n",
      "25%     829.000000   261.000000\n",
      "50%    1279.000000   486.000000\n",
      "75%    1734.000000   782.000000\n",
      "max    1797.000000  1041.000000\n"
     ]
    }
   ],
   "source": [
    "# 分析数据\n",
    "print(df.describe())"
   ]
  },
  {
   "cell_type": "code",
   "execution_count": 10,
   "metadata": {},
   "outputs": [
    {
     "name": "stdout",
     "output_type": "stream",
     "text": [
      "employerId    0\n",
      "location      0\n",
      "buildingId    0\n",
      "dtype: int64\n"
     ]
    }
   ],
   "source": [
    "# 分析缺失值\n",
    "print(df.isnull().sum())"
   ]
  },
  {
   "cell_type": "code",
   "execution_count": 11,
   "metadata": {},
   "outputs": [],
   "source": [
    "import re\n",
    "\n",
    "def extract_coordinates(location):\n",
    "    matches = re.findall(r'POINT \\(([-]?\\d+(?:\\.\\d+)?) ([-]?\\d+(?:\\.\\d+)?)\\)', location)\n",
    "    if matches:\n",
    "        return matches[0]\n",
    "    else:\n",
    "        return (None, None)\n",
    "\n",
    "df['x'], df['y'] = zip(*df['location'].apply(extract_coordinates))"
   ]
  },
  {
   "cell_type": "code",
   "execution_count": 12,
   "metadata": {},
   "outputs": [
    {
     "data": {
      "text/html": [
       "<div>\n",
       "<style scoped>\n",
       "    .dataframe tbody tr th:only-of-type {\n",
       "        vertical-align: middle;\n",
       "    }\n",
       "\n",
       "    .dataframe tbody tr th {\n",
       "        vertical-align: top;\n",
       "    }\n",
       "\n",
       "    .dataframe thead th {\n",
       "        text-align: right;\n",
       "    }\n",
       "</style>\n",
       "<table border=\"1\" class=\"dataframe\">\n",
       "  <thead>\n",
       "    <tr style=\"text-align: right;\">\n",
       "      <th></th>\n",
       "      <th>employerId</th>\n",
       "      <th>location</th>\n",
       "      <th>buildingId</th>\n",
       "      <th>x</th>\n",
       "      <th>y</th>\n",
       "    </tr>\n",
       "  </thead>\n",
       "  <tbody>\n",
       "    <tr>\n",
       "      <th>0</th>\n",
       "      <td>379</td>\n",
       "      <td>POINT (-1849.997168394888 1744.6010147106394)</td>\n",
       "      <td>823</td>\n",
       "      <td>-1849.997168394888</td>\n",
       "      <td>1744.6010147106394</td>\n",
       "    </tr>\n",
       "    <tr>\n",
       "      <th>1</th>\n",
       "      <td>380</td>\n",
       "      <td>POINT (41.51783767879146 418.7264799744545)</td>\n",
       "      <td>154</td>\n",
       "      <td>41.51783767879146</td>\n",
       "      <td>418.7264799744545</td>\n",
       "    </tr>\n",
       "    <tr>\n",
       "      <th>2</th>\n",
       "      <td>381</td>\n",
       "      <td>POINT (877.2786575380362 1358.5441805909259)</td>\n",
       "      <td>279</td>\n",
       "      <td>877.2786575380362</td>\n",
       "      <td>1358.5441805909259</td>\n",
       "    </tr>\n",
       "    <tr>\n",
       "      <th>3</th>\n",
       "      <td>382</td>\n",
       "      <td>POINT (670.3987400004884 1584.4743462106067)</td>\n",
       "      <td>3</td>\n",
       "      <td>670.3987400004884</td>\n",
       "      <td>1584.4743462106067</td>\n",
       "    </tr>\n",
       "    <tr>\n",
       "      <th>4</th>\n",
       "      <td>383</td>\n",
       "      <td>POINT (829.9556783260775 2163.4803049897623)</td>\n",
       "      <td>146</td>\n",
       "      <td>829.9556783260775</td>\n",
       "      <td>2163.4803049897623</td>\n",
       "    </tr>\n",
       "  </tbody>\n",
       "</table>\n",
       "</div>"
      ],
      "text/plain": [
       "   employerId                                       location  buildingId  \\\n",
       "0         379  POINT (-1849.997168394888 1744.6010147106394)         823   \n",
       "1         380    POINT (41.51783767879146 418.7264799744545)         154   \n",
       "2         381   POINT (877.2786575380362 1358.5441805909259)         279   \n",
       "3         382   POINT (670.3987400004884 1584.4743462106067)           3   \n",
       "4         383   POINT (829.9556783260775 2163.4803049897623)         146   \n",
       "\n",
       "                    x                   y  \n",
       "0  -1849.997168394888  1744.6010147106394  \n",
       "1   41.51783767879146   418.7264799744545  \n",
       "2   877.2786575380362  1358.5441805909259  \n",
       "3   670.3987400004884  1584.4743462106067  \n",
       "4   829.9556783260775  2163.4803049897623  "
      ]
     },
     "execution_count": 12,
     "metadata": {},
     "output_type": "execute_result"
    }
   ],
   "source": [
    "df.head()"
   ]
  },
  {
   "cell_type": "code",
   "execution_count": 13,
   "metadata": {},
   "outputs": [],
   "source": [
    "# 保存数据\n",
    "df.to_csv('./Employers_xy.csv', index=False)"
   ]
  }
 ],
 "metadata": {
  "kernelspec": {
   "display_name": "tf",
   "language": "python",
   "name": "python3"
  },
  "language_info": {
   "codemirror_mode": {
    "name": "ipython",
    "version": 3
   },
   "file_extension": ".py",
   "mimetype": "text/x-python",
   "name": "python",
   "nbconvert_exporter": "python",
   "pygments_lexer": "ipython3",
   "version": "3.10.13"
  }
 },
 "nbformat": 4,
 "nbformat_minor": 2
}
