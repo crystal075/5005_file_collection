{
 "cells": [
  {
   "cell_type": "code",
   "execution_count": 3,
   "metadata": {},
   "outputs": [
    {
     "name": "stdout",
     "output_type": "stream",
     "text": [
      "              timestamp  participantId  jobId\n",
      "0  2022-03-01T00:00:00Z              0  254.0\n",
      "1  2022-03-01T00:00:00Z              1  929.0\n",
      "2  2022-03-01T00:00:00Z              2  348.0\n",
      "3  2022-03-01T00:00:00Z              3  316.0\n",
      "4  2022-03-01T00:00:00Z              4  177.0\n"
     ]
    }
   ],
   "source": [
    "import pandas as pd\n",
    "\n",
    "# 读取'Activity Logs/ParticipantStatusLogs1.csv'到'Activity Logs/ParticipantStatusLogs11.csv'这11个文件到一个DataFrame中,代表3.1到5.2的数据\n",
    "df_1 = pd.concat([pd.read_csv('Activity Logs/ParticipantStatusLogs' + str(i) + '.csv') for i in range(1, 4)])\n",
    "# 提取timestamp，participantId和jobId列\n",
    "df_1 = df_1[['timestamp', 'participantId', 'jobId']]\n",
    "# 显示前5行数据\n",
    "print(df_1.head())"
   ]
  },
  {
   "cell_type": "code",
   "execution_count": 4,
   "metadata": {},
   "outputs": [
    {
     "name": "stdout",
     "output_type": "stream",
     "text": [
      "                    timestamp  participantId  jobId\n",
      "1489142  2022-03-12T15:50:00Z            387    NaN\n"
     ]
    }
   ],
   "source": [
    "# find those 'jobId' is NaN\n",
    "print(df_1[df_1['jobId'].isnull()])"
   ]
  }
 ],
 "metadata": {
  "kernelspec": {
   "display_name": "tf",
   "language": "python",
   "name": "python3"
  },
  "language_info": {
   "codemirror_mode": {
    "name": "ipython",
    "version": 3
   },
   "file_extension": ".py",
   "mimetype": "text/x-python",
   "name": "python",
   "nbconvert_exporter": "python",
   "pygments_lexer": "ipython3",
   "version": "3.9.18"
  }
 },
 "nbformat": 4,
 "nbformat_minor": 2
}
