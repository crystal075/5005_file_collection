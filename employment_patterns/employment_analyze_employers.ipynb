{
 "cells": [
  {
   "cell_type": "code",
   "execution_count": 67,
   "metadata": {},
   "outputs": [
    {
     "name": "stdout",
     "output_type": "stream",
     "text": [
      "   participantId  jobId first_month last_month   count  job_time  employerId\n",
      "0              0    254     2022-03    2023-05  129278        14         424\n",
      "1              1    929     2022-03    2023-05  129278        14        1321\n",
      "2              2    348     2022-03    2023-05  129278        14         440\n",
      "3              3    316     2022-03    2023-05  129278        14         436\n",
      "4              4    177     2022-03    2023-05  129225        14         411\n"
     ]
    }
   ],
   "source": [
    "import pandas as pd\n",
    "\n",
    "# 从'first_last_month.csv'中读取数据\n",
    "first_last_month = pd.read_csv('first_last_month.csv')\n",
    "\n",
    "print(first_last_month.head())"
   ]
  },
  {
   "cell_type": "code",
   "execution_count": 68,
   "metadata": {},
   "outputs": [
    {
     "name": "stdout",
     "output_type": "stream",
     "text": [
      "   participantId  jobId first_month last_month   count  job_time  employerId  \\\n",
      "0              0    254     2022-03    2023-05  129278        14         424   \n",
      "1              1    929     2022-03    2023-05  129278        14        1321   \n",
      "2              2    348     2022-03    2023-05  129278        14         440   \n",
      "3              3    316     2022-03    2023-05  129278        14         436   \n",
      "4              4    177     2022-03    2023-05  129225        14         411   \n",
      "\n",
      "    startTime     endTime  \n",
      "0  8:19:00 AM  4:19:00 PM  \n",
      "1  8:06:00 AM  4:06:00 PM  \n",
      "2  7:06:00 AM  3:06:00 PM  \n",
      "3  7:23:00 AM  3:23:00 PM  \n",
      "4  7:20:00 AM  3:20:00 PM  \n"
     ]
    }
   ],
   "source": [
    "# 读取'Attributes/Jobs.csv'文件\n",
    "df2 = pd.read_csv('Attributes/Jobs.csv')\n",
    "\n",
    "# 我希望根据job_id，将df2中的start_time和end_time合并到first_last_month中\n",
    "\n",
    "first_last_month = first_last_month.merge(df2[['jobId', 'startTime', 'endTime']], on='jobId', how='left')\n",
    "\n",
    "print(first_last_month.head())\n"
   ]
  },
  {
   "cell_type": "code",
   "execution_count": 69,
   "metadata": {},
   "outputs": [
    {
     "name": "stderr",
     "output_type": "stream",
     "text": [
      "C:\\Users\\19601\\AppData\\Local\\Temp\\ipykernel_36852\\3033724490.py:2: UserWarning: Could not infer format, so each element will be parsed individually, falling back to `dateutil`. To ensure parsing is consistent and as-expected, please specify a format.\n",
      "  first_last_month['startTime'] = pd.to_datetime(first_last_month['startTime'])\n",
      "C:\\Users\\19601\\AppData\\Local\\Temp\\ipykernel_36852\\3033724490.py:3: UserWarning: Could not infer format, so each element will be parsed individually, falling back to `dateutil`. To ensure parsing is consistent and as-expected, please specify a format.\n",
      "  first_last_month['endTime'] = pd.to_datetime(first_last_month['endTime'])\n"
     ]
    }
   ],
   "source": [
    "# 假设你的 DataFrame 是 df，'start_time' 和 'end_time' 是你要转换的列\n",
    "first_last_month['startTime'] = pd.to_datetime(first_last_month['startTime'])\n",
    "first_last_month['endTime'] = pd.to_datetime(first_last_month['endTime'])"
   ]
  },
  {
   "cell_type": "code",
   "execution_count": 70,
   "metadata": {},
   "outputs": [],
   "source": [
    "# 计算两个时间之间的差值\n",
    "first_last_month['daily_work_time'] = first_last_month['endTime'] - first_last_month['startTime']"
   ]
  },
  {
   "cell_type": "code",
   "execution_count": 71,
   "metadata": {},
   "outputs": [
    {
     "name": "stdout",
     "output_type": "stream",
     "text": [
      "   participantId  jobId first_month last_month   count  job_time  employerId  \\\n",
      "0              0    254     2022-03    2023-05  129278        14         424   \n",
      "1              1    929     2022-03    2023-05  129278        14        1321   \n",
      "2              2    348     2022-03    2023-05  129278        14         440   \n",
      "3              3    316     2022-03    2023-05  129278        14         436   \n",
      "4              4    177     2022-03    2023-05  129225        14         411   \n",
      "\n",
      "            startTime             endTime daily_work_time  \n",
      "0 2024-05-07 08:19:00 2024-05-07 16:19:00 0 days 08:00:00  \n",
      "1 2024-05-07 08:06:00 2024-05-07 16:06:00 0 days 08:00:00  \n",
      "2 2024-05-07 07:06:00 2024-05-07 15:06:00 0 days 08:00:00  \n",
      "3 2024-05-07 07:23:00 2024-05-07 15:23:00 0 days 08:00:00  \n",
      "4 2024-05-07 07:20:00 2024-05-07 15:20:00 0 days 08:00:00  \n"
     ]
    }
   ],
   "source": [
    "print(first_last_month.head())"
   ]
  },
  {
   "cell_type": "code",
   "execution_count": 72,
   "metadata": {},
   "outputs": [
    {
     "name": "stdout",
     "output_type": "stream",
     "text": [
      "    participantId  jobId first_month last_month   count  job_time  employerId  \\\n",
      "0             880      1     2022-03    2023-05  129278        14         379   \n",
      "1              87      5     2022-03    2023-05  129278        14         381   \n",
      "2             166      7     2022-03    2023-05  129278        14         381   \n",
      "3              98      6     2022-03    2023-05  129278        14         381   \n",
      "4             121      4     2022-03    2023-05  129278        14         381   \n",
      "5             575     10     2022-03    2022-03       6         0         382   \n",
      "6             925     14     2022-03    2022-03    1229         0         382   \n",
      "7             653     10     2022-03    2022-03     124         0         382   \n",
      "8             298     10     2022-03    2022-03       5         0         382   \n",
      "9             907     10     2022-03    2022-03       4         0         382   \n",
      "10            791     10     2022-03    2022-03     318         0         382   \n",
      "11            120     16     2022-03    2023-05  129278        14         382   \n",
      "12            628     10     2022-03    2022-03      60         0         382   \n",
      "13            514     10     2022-03    2022-03      53         0         382   \n",
      "14            825     10     2022-03    2022-03       5         0         382   \n",
      "\n",
      "             startTime             endTime daily_work_time  \n",
      "0  2024-05-07 07:31:00 2024-05-07 15:31:00 0 days 08:00:00  \n",
      "1  2024-05-07 08:13:00 2024-05-07 16:13:00 0 days 08:00:00  \n",
      "2  2024-05-07 07:47:00 2024-05-07 15:47:00 0 days 08:00:00  \n",
      "3  2024-05-07 08:36:00 2024-05-07 16:36:00 0 days 08:00:00  \n",
      "4  2024-05-07 07:53:00 2024-05-07 15:53:00 0 days 08:00:00  \n",
      "5  2024-05-07 08:19:00 2024-05-07 16:19:00 0 days 08:00:00  \n",
      "6  2024-05-07 08:32:00 2024-05-07 16:32:00 0 days 08:00:00  \n",
      "7  2024-05-07 08:19:00 2024-05-07 16:19:00 0 days 08:00:00  \n",
      "8  2024-05-07 08:19:00 2024-05-07 16:19:00 0 days 08:00:00  \n",
      "9  2024-05-07 08:19:00 2024-05-07 16:19:00 0 days 08:00:00  \n",
      "10 2024-05-07 08:19:00 2024-05-07 16:19:00 0 days 08:00:00  \n",
      "11 2024-05-07 07:00:00 2024-05-07 15:00:00 0 days 08:00:00  \n",
      "12 2024-05-07 08:19:00 2024-05-07 16:19:00 0 days 08:00:00  \n",
      "13 2024-05-07 08:19:00 2024-05-07 16:19:00 0 days 08:00:00  \n",
      "14 2024-05-07 08:19:00 2024-05-07 16:19:00 0 days 08:00:00  \n"
     ]
    }
   ],
   "source": [
    "# 按照employerId排序, 并重新设置索引\n",
    "first_last_month = first_last_month.sort_values(by='employerId').reset_index(drop=True)\n",
    "\n",
    "print(first_last_month.head(15))\n"
   ]
  },
  {
   "cell_type": "code",
   "execution_count": 74,
   "metadata": {},
   "outputs": [
    {
     "name": "stdout",
     "output_type": "stream",
     "text": [
      "    participantId  jobId first_month last_month   count  job_time  employerId  \\\n",
      "1              87      5     2022-03    2023-05  129278        14         381   \n",
      "2             166      7     2022-03    2023-05  129278        14         381   \n",
      "3              98      6     2022-03    2023-05  129278        14         381   \n",
      "4             121      4     2022-03    2023-05  129278        14         381   \n",
      "5             575     10     2022-03    2022-03       6         0         382   \n",
      "6             925     14     2022-03    2022-03    1229         0         382   \n",
      "7             653     10     2022-03    2022-03     124         0         382   \n",
      "8             298     10     2022-03    2022-03       5         0         382   \n",
      "9             907     10     2022-03    2022-03       4         0         382   \n",
      "10            791     10     2022-03    2022-03     318         0         382   \n",
      "11            120     16     2022-03    2023-05  129278        14         382   \n",
      "12            628     10     2022-03    2022-03      60         0         382   \n",
      "13            514     10     2022-03    2022-03      53         0         382   \n",
      "14            825     10     2022-03    2022-03       5         0         382   \n",
      "15            223     13     2022-03    2023-05  129278        14         382   \n",
      "\n",
      "             startTime             endTime daily_work_time  \n",
      "1  2024-05-07 08:13:00 2024-05-07 16:13:00 0 days 08:00:00  \n",
      "2  2024-05-07 07:47:00 2024-05-07 15:47:00 0 days 08:00:00  \n",
      "3  2024-05-07 08:36:00 2024-05-07 16:36:00 0 days 08:00:00  \n",
      "4  2024-05-07 07:53:00 2024-05-07 15:53:00 0 days 08:00:00  \n",
      "5  2024-05-07 08:19:00 2024-05-07 16:19:00 0 days 08:00:00  \n",
      "6  2024-05-07 08:32:00 2024-05-07 16:32:00 0 days 08:00:00  \n",
      "7  2024-05-07 08:19:00 2024-05-07 16:19:00 0 days 08:00:00  \n",
      "8  2024-05-07 08:19:00 2024-05-07 16:19:00 0 days 08:00:00  \n",
      "9  2024-05-07 08:19:00 2024-05-07 16:19:00 0 days 08:00:00  \n",
      "10 2024-05-07 08:19:00 2024-05-07 16:19:00 0 days 08:00:00  \n",
      "11 2024-05-07 07:00:00 2024-05-07 15:00:00 0 days 08:00:00  \n",
      "12 2024-05-07 08:19:00 2024-05-07 16:19:00 0 days 08:00:00  \n",
      "13 2024-05-07 08:19:00 2024-05-07 16:19:00 0 days 08:00:00  \n",
      "14 2024-05-07 08:19:00 2024-05-07 16:19:00 0 days 08:00:00  \n",
      "15 2024-05-07 08:16:00 2024-05-07 16:16:00 0 days 08:00:00  \n"
     ]
    }
   ],
   "source": [
    "# 查找jobId的数量大于1的employerId及其对应的记录\n",
    "employers = first_last_month['employerId'].value_counts()\n",
    "normal_employers= employers[employers > 1].index\n",
    "\n",
    "print(first_last_month[first_last_month['employerId'].isin(normal_employers)].head(15))\n"
   ]
  },
  {
   "cell_type": "code",
   "execution_count": 59,
   "metadata": {},
   "outputs": [],
   "source": [
    "# 对于每一组(employerId, jobId), 计算其记录数和job_time的均值,以及start_time和end_time的均值，daily_work_time的均值\n",
    "grouped_job = first_last_month.groupby(['employerId', 'jobId']).agg({'job_time': 'mean', 'count': 'count', 'startTime': 'mean', 'endTime': 'mean', 'daily_work_time': 'mean'}).reset_index()"
   ]
  },
  {
   "cell_type": "code",
   "execution_count": 60,
   "metadata": {},
   "outputs": [
    {
     "name": "stdout",
     "output_type": "stream",
     "text": [
      "    employerId  jobId  job_time  count           startTime  \\\n",
      "0          379      1      14.0      1 2024-05-07 07:31:00   \n",
      "1          381      4      14.0      1 2024-05-07 07:53:00   \n",
      "2          381      5      14.0      1 2024-05-07 08:13:00   \n",
      "3          381      6      14.0      1 2024-05-07 08:36:00   \n",
      "4          381      7      14.0      1 2024-05-07 07:47:00   \n",
      "5          382      9      14.0      1 2024-05-07 07:19:00   \n",
      "6          382     10       0.0      9 2024-05-07 08:19:00   \n",
      "7          382     12      14.0      1 2024-05-07 07:27:00   \n",
      "8          382     13      14.0      1 2024-05-07 08:16:00   \n",
      "9          382     14       0.0      1 2024-05-07 08:32:00   \n",
      "10         382     16      14.0      1 2024-05-07 07:00:00   \n",
      "11         383     18      14.0      1 2024-05-07 08:46:00   \n",
      "12         383     20      14.0      1 2024-05-07 07:09:00   \n",
      "13         383     21      14.0      1 2024-05-07 07:34:00   \n",
      "14         383     22      14.0      1 2024-05-07 08:26:00   \n",
      "\n",
      "               endTime daily_work_time  \n",
      "0  2024-05-07 15:31:00 0 days 08:00:00  \n",
      "1  2024-05-07 15:53:00 0 days 08:00:00  \n",
      "2  2024-05-07 16:13:00 0 days 08:00:00  \n",
      "3  2024-05-07 16:36:00 0 days 08:00:00  \n",
      "4  2024-05-07 15:47:00 0 days 08:00:00  \n",
      "5  2024-05-07 15:19:00 0 days 08:00:00  \n",
      "6  2024-05-07 16:19:00 0 days 08:00:00  \n",
      "7  2024-05-07 15:27:00 0 days 08:00:00  \n",
      "8  2024-05-07 16:16:00 0 days 08:00:00  \n",
      "9  2024-05-07 16:32:00 0 days 08:00:00  \n",
      "10 2024-05-07 15:00:00 0 days 08:00:00  \n",
      "11 2024-05-07 16:46:00 0 days 08:00:00  \n",
      "12 2024-05-07 15:09:00 0 days 08:00:00  \n",
      "13 2024-05-07 15:34:00 0 days 08:00:00  \n",
      "14 2024-05-07 16:26:00 0 days 08:00:00  \n"
     ]
    }
   ],
   "source": [
    "print(grouped_job.head(15))"
   ]
  },
  {
   "cell_type": "code",
   "execution_count": 61,
   "metadata": {},
   "outputs": [
    {
     "name": "stdout",
     "output_type": "stream",
     "text": [
      "count    1190.000000\n",
      "mean       10.243978\n",
      "std         6.165977\n",
      "min         0.000000\n",
      "25%         0.000000\n",
      "50%        14.000000\n",
      "75%        14.000000\n",
      "max        14.000000\n",
      "Name: job_time, dtype: float64\n"
     ]
    }
   ],
   "source": [
    "# 统计job_time的分布\n",
    "print(grouped_job['job_time'].describe())"
   ]
  },
  {
   "cell_type": "code",
   "execution_count": 62,
   "metadata": {},
   "outputs": [
    {
     "name": "stdout",
     "output_type": "stream",
     "text": [
      "    employerId  avg_job_time  avg_job_change           startTime  \\\n",
      "0          379     14.000000        1.000000 2024-05-07 07:31:00   \n",
      "1          381     14.000000        1.000000 2024-05-07 08:07:15   \n",
      "2          382      9.333333        2.333333 2024-05-07 07:48:50   \n",
      "3          383     14.000000        1.000000 2024-05-07 07:58:00   \n",
      "4          384     14.000000        1.000000 2024-05-07 08:10:40   \n",
      "5          385     14.000000        1.000000 2024-05-07 07:54:00   \n",
      "6          386     11.666667        1.000000 2024-05-07 08:13:10   \n",
      "7          387     14.000000        1.000000 2024-05-07 07:59:00   \n",
      "8          388     11.666667        2.500000 2024-05-07 08:00:30   \n",
      "9          389     10.500000        4.750000 2024-05-07 07:40:30   \n",
      "10         390     14.000000        1.000000 2024-05-07 08:07:00   \n",
      "11         391     14.000000        1.000000 2024-05-07 08:43:00   \n",
      "12         392     14.000000        1.000000 2024-05-07 08:06:00   \n",
      "13         393     11.200000        1.200000 2024-05-07 07:56:12   \n",
      "14         394      7.000000        1.500000 2024-05-07 07:41:30   \n",
      "\n",
      "               endTime daily_work_time  \n",
      "0  2024-05-07 15:31:00 0 days 08:00:00  \n",
      "1  2024-05-07 16:07:15 0 days 08:00:00  \n",
      "2  2024-05-07 15:48:50 0 days 08:00:00  \n",
      "3  2024-05-07 15:58:00 0 days 08:00:00  \n",
      "4  2024-05-07 16:10:40 0 days 08:00:00  \n",
      "5  2024-05-07 15:54:00 0 days 08:00:00  \n",
      "6  2024-05-07 16:13:10 0 days 08:00:00  \n",
      "7  2024-05-07 15:59:00 0 days 08:00:00  \n",
      "8  2024-05-07 16:00:30 0 days 08:00:00  \n",
      "9  2024-05-07 15:40:30 0 days 08:00:00  \n",
      "10 2024-05-07 16:07:00 0 days 08:00:00  \n",
      "11 2024-05-07 16:43:00 0 days 08:00:00  \n",
      "12 2024-05-07 16:06:00 0 days 08:00:00  \n",
      "13 2024-05-07 15:56:12 0 days 08:00:00  \n",
      "14 2024-05-07 15:41:30 0 days 08:00:00  \n"
     ]
    }
   ],
   "source": [
    "# 在grouped_job的基础上，对于每一个employerId, 计算其job_time的均值，和count的均值\n",
    "\n",
    "grouped_employer = grouped_job.groupby('employerId').agg({'job_time': 'mean', 'count': 'mean','startTime': 'mean', 'endTime': 'mean', 'daily_work_time': 'mean'}).reset_index()\n",
    "\n",
    "# 将job_time的列名改为avg_job_time\n",
    "grouped_employer = grouped_employer.rename(columns={'job_time': 'avg_job_time'})\n",
    "\n",
    "# 将count的列名改为avg_job_change\n",
    "grouped_employer = grouped_employer.rename(columns={'count': 'avg_job_change'})\n",
    "\n",
    "print(grouped_employer.head(15))\n"
   ]
  },
  {
   "cell_type": "code",
   "execution_count": 63,
   "metadata": {},
   "outputs": [],
   "source": [
    "# 保存grouped_employer到'grouped_employer.csv'\n",
    "grouped_employer.to_csv('grouped_employer.csv', index=False)"
   ]
  },
  {
   "cell_type": "code",
   "execution_count": 64,
   "metadata": {},
   "outputs": [
    {
     "name": "stdout",
     "output_type": "stream",
     "text": [
      "count                252\n",
      "mean     0 days 08:00:00\n",
      "std      0 days 00:00:00\n",
      "min      0 days 08:00:00\n",
      "25%      0 days 08:00:00\n",
      "50%      0 days 08:00:00\n",
      "75%      0 days 08:00:00\n",
      "max      0 days 08:00:00\n",
      "Name: daily_work_time, dtype: object\n"
     ]
    }
   ],
   "source": [
    "# 分析daily_work_time的分布\n",
    "print(grouped_employer['daily_work_time'].describe())"
   ]
  },
  {
   "cell_type": "code",
   "execution_count": 65,
   "metadata": {},
   "outputs": [
    {
     "name": "stdout",
     "output_type": "stream",
     "text": [
      "count                              252\n",
      "mean     2024-05-07 08:01:33.827286272\n",
      "min                2024-05-07 07:05:30\n",
      "25%      2024-05-07 07:49:23.035714304\n",
      "50%                2024-05-07 08:01:35\n",
      "75%                2024-05-07 08:13:56\n",
      "max                2024-05-07 08:47:00\n",
      "Name: startTime, dtype: object\n"
     ]
    }
   ],
   "source": [
    "# 分析startTime的分布\n",
    "print(grouped_employer['startTime'].describe())"
   ]
  },
  {
   "cell_type": "code",
   "execution_count": 66,
   "metadata": {},
   "outputs": [
    {
     "name": "stdout",
     "output_type": "stream",
     "text": [
      "count                              252\n",
      "mean     2024-05-07 16:01:33.827286272\n",
      "min                2024-05-07 15:05:30\n",
      "25%      2024-05-07 15:49:23.035714304\n",
      "50%                2024-05-07 16:01:35\n",
      "75%                2024-05-07 16:13:56\n",
      "max                2024-05-07 16:47:00\n",
      "Name: endTime, dtype: object\n"
     ]
    }
   ],
   "source": [
    "# 分析endTime的分布\n",
    "print(grouped_employer['endTime'].describe())"
   ]
  }
 ],
 "metadata": {
  "kernelspec": {
   "display_name": "tf",
   "language": "python",
   "name": "python3"
  },
  "language_info": {
   "codemirror_mode": {
    "name": "ipython",
    "version": 3
   },
   "file_extension": ".py",
   "mimetype": "text/x-python",
   "name": "python",
   "nbconvert_exporter": "python",
   "pygments_lexer": "ipython3",
   "version": "3.9.18"
  }
 },
 "nbformat": 4,
 "nbformat_minor": 2
}
