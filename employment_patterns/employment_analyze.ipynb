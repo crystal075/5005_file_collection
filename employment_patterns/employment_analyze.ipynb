{
 "cells": [
  {
   "cell_type": "code",
   "execution_count": 1,
   "metadata": {},
   "outputs": [
    {
     "name": "stdout",
     "output_type": "stream",
     "text": [
      "              timestamp  participantId  jobId\n",
      "0  2022-03-01T00:00:00Z              0    254\n",
      "1  2022-03-01T00:00:00Z              1    929\n",
      "2  2022-03-01T00:00:00Z              2    348\n",
      "3  2022-03-01T00:00:00Z              3    316\n",
      "4  2022-03-01T00:00:00Z              4    177\n"
     ]
    }
   ],
   "source": [
    "import pandas as pd\n",
    "\n",
    "# 读取CSV文件\n",
    "df = pd.read_csv('Activity Logs/ParticipantStatusLogs1.csv')\n",
    "\n",
    "# 提取timestamp，participantId和jobId列\n",
    "df = df[['timestamp', 'participantId', 'jobId']]\n",
    "\n",
    "# 显示前5行数据\n",
    "print(df.head())"
   ]
  },
  {
   "cell_type": "code",
   "execution_count": 2,
   "metadata": {},
   "outputs": [
    {
     "name": "stdout",
     "output_type": "stream",
     "text": [
      "participantId\n",
      "0      1667\n",
      "129    1667\n",
      "119    1667\n",
      "120    1667\n",
      "121    1667\n",
      "       ... \n",
      "634    1152\n",
      "907    1152\n",
      "794    1152\n",
      "901    1152\n",
      "567    1152\n",
      "Name: count, Length: 1011, dtype: int64\n"
     ]
    }
   ],
   "source": [
    "# 计算participantId中每个值出现的次数\n",
    "print(df['participantId'].value_counts())"
   ]
  },
  {
   "cell_type": "code",
   "execution_count": 3,
   "metadata": {},
   "outputs": [
    {
     "name": "stdout",
     "output_type": "stream",
     "text": [
      "jobId\n",
      "337     7072\n",
      "975     6272\n",
      "1220    5452\n",
      "572     3918\n",
      "731     2716\n",
      "        ... \n",
      "378        1\n",
      "380        1\n",
      "589        1\n",
      "525        1\n",
      "792        1\n",
      "Name: count, Length: 1190, dtype: int64\n"
     ]
    }
   ],
   "source": [
    "# 计算jobId中每个值出现的次数\n",
    "print(df['jobId'].value_counts())"
   ]
  },
  {
   "cell_type": "code",
   "execution_count": null,
   "metadata": {},
   "outputs": [],
   "source": [
    "# 读取'Activity Logs/ParticipantStatusLogs1.csv'到'Activity Logs/ParticipantStatusLogs11.csv'这11个文件到一个DataFrame中,代表3.1到5.2的数据\n",
    "df_1 = pd.concat([pd.read_csv('Activity Logs/ParticipantStatusLogs' + str(i) + '.csv') for i in range(1, 12)])\n",
    "# 提取timestamp，participantId和jobId列\n",
    "df_1 = df_1[['timestamp', 'participantId', 'jobId']]\n",
    "# 显示前5行数据"
   ]
  },
  {
   "cell_type": "code",
   "execution_count": 5,
   "metadata": {},
   "outputs": [
    {
     "name": "stdout",
     "output_type": "stream",
     "text": [
      "              timestamp  participantId  jobId\n",
      "0  2022-03-01T00:00:00Z              0  254.0\n",
      "1  2022-03-01T00:00:00Z              1  929.0\n",
      "2  2022-03-01T00:00:00Z              2  348.0\n",
      "3  2022-03-01T00:00:00Z              3  316.0\n",
      "4  2022-03-01T00:00:00Z              4  177.0\n"
     ]
    }
   ],
   "source": [
    "print(df_1.head())"
   ]
  },
  {
   "cell_type": "code",
   "execution_count": 6,
   "metadata": {},
   "outputs": [
    {
     "name": "stdout",
     "output_type": "stream",
     "text": [
      "jobId\n",
      "1309.0    19676\n",
      "368.0     19676\n",
      "670.0     19676\n",
      "566.0     19676\n",
      "931.0     19676\n",
      "          ...  \n",
      "219.0         1\n",
      "209.0         1\n",
      "592.0         1\n",
      "515.0         1\n",
      "792.0         1\n",
      "Name: count, Length: 1190, dtype: int64\n"
     ]
    }
   ],
   "source": [
    "# 统计jobId的分布\n",
    "print(df_1['jobId'].value_counts())"
   ]
  },
  {
   "cell_type": "code",
   "execution_count": 8,
   "metadata": {},
   "outputs": [
    {
     "name": "stdout",
     "output_type": "stream",
     "text": [
      "1\n"
     ]
    }
   ],
   "source": [
    "# 查看jobId中的缺失值\n",
    "print(df_1['jobId'].isnull().sum())"
   ]
  },
  {
   "cell_type": "code",
   "execution_count": 9,
   "metadata": {},
   "outputs": [],
   "source": [
    "# 删除jobId中的缺失值所在的行\n",
    "df_1 = df_1.dropna(subset=['jobId'])"
   ]
  },
  {
   "cell_type": "code",
   "execution_count": 10,
   "metadata": {},
   "outputs": [
    {
     "name": "stdout",
     "output_type": "stream",
     "text": [
      "0\n"
     ]
    }
   ],
   "source": [
    "# 查看participantId中的缺失值\n",
    "print(df_1['participantId'].isnull().sum())"
   ]
  },
  {
   "cell_type": "code",
   "execution_count": 11,
   "metadata": {},
   "outputs": [],
   "source": [
    "# 转换jobId的数据类型为整数\n",
    "df_1['jobId'] = df_1['jobId'].astype(int)"
   ]
  },
  {
   "cell_type": "code",
   "execution_count": 12,
   "metadata": {},
   "outputs": [],
   "source": [
    "# 转换timestamp的数据类型为日期\n",
    "df_1['timestamp'] = pd.to_datetime(df_1['timestamp'])"
   ]
  },
  {
   "cell_type": "code",
   "execution_count": 13,
   "metadata": {},
   "outputs": [
    {
     "name": "stdout",
     "output_type": "stream",
     "text": [
      "                  timestamp  participantId  jobId\n",
      "0 2022-03-01 00:00:00+00:00              0    254\n",
      "1 2022-03-01 00:00:00+00:00              1    929\n",
      "2 2022-03-01 00:00:00+00:00              2    348\n",
      "3 2022-03-01 00:00:00+00:00              3    316\n",
      "4 2022-03-01 00:00:00+00:00              4    177\n"
     ]
    }
   ],
   "source": [
    "print(df_1.head())"
   ]
  },
  {
   "cell_type": "code",
   "execution_count": 15,
   "metadata": {},
   "outputs": [],
   "source": [
    "# 保存df_1\n",
    "df_1.to_csv('EmploymentLogs_3-1_5-2.csv', index=False)"
   ]
  },
  {
   "cell_type": "code",
   "execution_count": 16,
   "metadata": {},
   "outputs": [
    {
     "name": "stdout",
     "output_type": "stream",
     "text": [
      "              timestamp  participantId  jobId\n",
      "0  2022-03-01T00:00:00Z            0.0  254.0\n",
      "1  2022-03-01T00:00:00Z            1.0  929.0\n",
      "2  2022-03-01T00:00:00Z            2.0  348.0\n",
      "3  2022-03-01T00:00:00Z            3.0  316.0\n",
      "4  2022-03-01T00:00:00Z            4.0  177.0\n"
     ]
    }
   ],
   "source": [
    "import pandas as pd\n",
    "\n",
    "# 定义文件名的列表\n",
    "filenames = [f'Activity Logs/ParticipantStatusLogs{i}.csv' for i in range(1, 73)]\n",
    "\n",
    "# 读取所有文件并将它们合并到一个DataFrame中\n",
    "df = pd.concat([pd.read_csv(f, usecols=['timestamp', 'participantId', 'jobId']) for f in filenames])\n",
    "\n",
    "# 显示前5行数据\n",
    "print(df.head())"
   ]
  },
  {
   "cell_type": "code",
   "execution_count": 17,
   "metadata": {},
   "outputs": [
    {
     "ename": "IntCastingNaNError",
     "evalue": "Cannot convert non-finite values (NA or inf) to integer",
     "output_type": "error",
     "traceback": [
      "\u001b[1;31m---------------------------------------------------------------------------\u001b[0m",
      "\u001b[1;31mIntCastingNaNError\u001b[0m                        Traceback (most recent call last)",
      "Cell \u001b[1;32mIn[17], line 4\u001b[0m\n\u001b[0;32m      2\u001b[0m df[\u001b[38;5;124m'\u001b[39m\u001b[38;5;124mjobId\u001b[39m\u001b[38;5;124m'\u001b[39m] \u001b[38;5;241m=\u001b[39m df[\u001b[38;5;124m'\u001b[39m\u001b[38;5;124mjobId\u001b[39m\u001b[38;5;124m'\u001b[39m]\u001b[38;5;241m.\u001b[39mfillna(\u001b[38;5;241m-\u001b[39m\u001b[38;5;241m1\u001b[39m)\u001b[38;5;241m.\u001b[39mastype(\u001b[38;5;28mint\u001b[39m)\n\u001b[0;32m      3\u001b[0m df[\u001b[38;5;124m'\u001b[39m\u001b[38;5;124mtimestamp\u001b[39m\u001b[38;5;124m'\u001b[39m] \u001b[38;5;241m=\u001b[39m pd\u001b[38;5;241m.\u001b[39mto_datetime(df[\u001b[38;5;124m'\u001b[39m\u001b[38;5;124mtimestamp\u001b[39m\u001b[38;5;124m'\u001b[39m])\n\u001b[1;32m----> 4\u001b[0m df[\u001b[38;5;124m'\u001b[39m\u001b[38;5;124mparticipantId\u001b[39m\u001b[38;5;124m'\u001b[39m] \u001b[38;5;241m=\u001b[39m \u001b[43mdf\u001b[49m\u001b[43m[\u001b[49m\u001b[38;5;124;43m'\u001b[39;49m\u001b[38;5;124;43mparticipantId\u001b[39;49m\u001b[38;5;124;43m'\u001b[39;49m\u001b[43m]\u001b[49m\u001b[38;5;241;43m.\u001b[39;49m\u001b[43mastype\u001b[49m\u001b[43m(\u001b[49m\u001b[38;5;28;43mint\u001b[39;49m\u001b[43m)\u001b[49m\n",
      "File \u001b[1;32md:\\Anaconda\\lib\\site-packages\\pandas\\core\\generic.py:6534\u001b[0m, in \u001b[0;36mNDFrame.astype\u001b[1;34m(self, dtype, copy, errors)\u001b[0m\n\u001b[0;32m   6530\u001b[0m     results \u001b[38;5;241m=\u001b[39m [ser\u001b[38;5;241m.\u001b[39mastype(dtype, copy\u001b[38;5;241m=\u001b[39mcopy) \u001b[38;5;28;01mfor\u001b[39;00m _, ser \u001b[38;5;129;01min\u001b[39;00m \u001b[38;5;28mself\u001b[39m\u001b[38;5;241m.\u001b[39mitems()]\n\u001b[0;32m   6532\u001b[0m \u001b[38;5;28;01melse\u001b[39;00m:\n\u001b[0;32m   6533\u001b[0m     \u001b[38;5;66;03m# else, only a single dtype is given\u001b[39;00m\n\u001b[1;32m-> 6534\u001b[0m     new_data \u001b[38;5;241m=\u001b[39m \u001b[38;5;28;43mself\u001b[39;49m\u001b[38;5;241;43m.\u001b[39;49m\u001b[43m_mgr\u001b[49m\u001b[38;5;241;43m.\u001b[39;49m\u001b[43mastype\u001b[49m\u001b[43m(\u001b[49m\u001b[43mdtype\u001b[49m\u001b[38;5;241;43m=\u001b[39;49m\u001b[43mdtype\u001b[49m\u001b[43m,\u001b[49m\u001b[43m \u001b[49m\u001b[43mcopy\u001b[49m\u001b[38;5;241;43m=\u001b[39;49m\u001b[43mcopy\u001b[49m\u001b[43m,\u001b[49m\u001b[43m \u001b[49m\u001b[43merrors\u001b[49m\u001b[38;5;241;43m=\u001b[39;49m\u001b[43merrors\u001b[49m\u001b[43m)\u001b[49m\n\u001b[0;32m   6535\u001b[0m     res \u001b[38;5;241m=\u001b[39m \u001b[38;5;28mself\u001b[39m\u001b[38;5;241m.\u001b[39m_constructor_from_mgr(new_data, axes\u001b[38;5;241m=\u001b[39mnew_data\u001b[38;5;241m.\u001b[39maxes)\n\u001b[0;32m   6536\u001b[0m     \u001b[38;5;28;01mreturn\u001b[39;00m res\u001b[38;5;241m.\u001b[39m__finalize__(\u001b[38;5;28mself\u001b[39m, method\u001b[38;5;241m=\u001b[39m\u001b[38;5;124m\"\u001b[39m\u001b[38;5;124mastype\u001b[39m\u001b[38;5;124m\"\u001b[39m)\n",
      "File \u001b[1;32md:\\Anaconda\\lib\\site-packages\\pandas\\core\\internals\\managers.py:414\u001b[0m, in \u001b[0;36mBaseBlockManager.astype\u001b[1;34m(self, dtype, copy, errors)\u001b[0m\n\u001b[0;32m    411\u001b[0m \u001b[38;5;28;01melif\u001b[39;00m using_copy_on_write():\n\u001b[0;32m    412\u001b[0m     copy \u001b[38;5;241m=\u001b[39m \u001b[38;5;28;01mFalse\u001b[39;00m\n\u001b[1;32m--> 414\u001b[0m \u001b[38;5;28;01mreturn\u001b[39;00m \u001b[38;5;28;43mself\u001b[39;49m\u001b[38;5;241;43m.\u001b[39;49m\u001b[43mapply\u001b[49m\u001b[43m(\u001b[49m\n\u001b[0;32m    415\u001b[0m \u001b[43m    \u001b[49m\u001b[38;5;124;43m\"\u001b[39;49m\u001b[38;5;124;43mastype\u001b[39;49m\u001b[38;5;124;43m\"\u001b[39;49m\u001b[43m,\u001b[49m\n\u001b[0;32m    416\u001b[0m \u001b[43m    \u001b[49m\u001b[43mdtype\u001b[49m\u001b[38;5;241;43m=\u001b[39;49m\u001b[43mdtype\u001b[49m\u001b[43m,\u001b[49m\n\u001b[0;32m    417\u001b[0m \u001b[43m    \u001b[49m\u001b[43mcopy\u001b[49m\u001b[38;5;241;43m=\u001b[39;49m\u001b[43mcopy\u001b[49m\u001b[43m,\u001b[49m\n\u001b[0;32m    418\u001b[0m \u001b[43m    \u001b[49m\u001b[43merrors\u001b[49m\u001b[38;5;241;43m=\u001b[39;49m\u001b[43merrors\u001b[49m\u001b[43m,\u001b[49m\n\u001b[0;32m    419\u001b[0m \u001b[43m    \u001b[49m\u001b[43musing_cow\u001b[49m\u001b[38;5;241;43m=\u001b[39;49m\u001b[43musing_copy_on_write\u001b[49m\u001b[43m(\u001b[49m\u001b[43m)\u001b[49m\u001b[43m,\u001b[49m\n\u001b[0;32m    420\u001b[0m \u001b[43m\u001b[49m\u001b[43m)\u001b[49m\n",
      "File \u001b[1;32md:\\Anaconda\\lib\\site-packages\\pandas\\core\\internals\\managers.py:354\u001b[0m, in \u001b[0;36mBaseBlockManager.apply\u001b[1;34m(self, f, align_keys, **kwargs)\u001b[0m\n\u001b[0;32m    352\u001b[0m         applied \u001b[38;5;241m=\u001b[39m b\u001b[38;5;241m.\u001b[39mapply(f, \u001b[38;5;241m*\u001b[39m\u001b[38;5;241m*\u001b[39mkwargs)\n\u001b[0;32m    353\u001b[0m     \u001b[38;5;28;01melse\u001b[39;00m:\n\u001b[1;32m--> 354\u001b[0m         applied \u001b[38;5;241m=\u001b[39m \u001b[38;5;28mgetattr\u001b[39m(b, f)(\u001b[38;5;241m*\u001b[39m\u001b[38;5;241m*\u001b[39mkwargs)\n\u001b[0;32m    355\u001b[0m     result_blocks \u001b[38;5;241m=\u001b[39m extend_blocks(applied, result_blocks)\n\u001b[0;32m    357\u001b[0m out \u001b[38;5;241m=\u001b[39m \u001b[38;5;28mtype\u001b[39m(\u001b[38;5;28mself\u001b[39m)\u001b[38;5;241m.\u001b[39mfrom_blocks(result_blocks, \u001b[38;5;28mself\u001b[39m\u001b[38;5;241m.\u001b[39maxes)\n",
      "File \u001b[1;32md:\\Anaconda\\lib\\site-packages\\pandas\\core\\internals\\blocks.py:616\u001b[0m, in \u001b[0;36mBlock.astype\u001b[1;34m(self, dtype, copy, errors, using_cow)\u001b[0m\n\u001b[0;32m    596\u001b[0m \u001b[38;5;250m\u001b[39m\u001b[38;5;124;03m\"\"\"\u001b[39;00m\n\u001b[0;32m    597\u001b[0m \u001b[38;5;124;03mCoerce to the new dtype.\u001b[39;00m\n\u001b[0;32m    598\u001b[0m \n\u001b[1;32m   (...)\u001b[0m\n\u001b[0;32m    612\u001b[0m \u001b[38;5;124;03mBlock\u001b[39;00m\n\u001b[0;32m    613\u001b[0m \u001b[38;5;124;03m\"\"\"\u001b[39;00m\n\u001b[0;32m    614\u001b[0m values \u001b[38;5;241m=\u001b[39m \u001b[38;5;28mself\u001b[39m\u001b[38;5;241m.\u001b[39mvalues\n\u001b[1;32m--> 616\u001b[0m new_values \u001b[38;5;241m=\u001b[39m \u001b[43mastype_array_safe\u001b[49m\u001b[43m(\u001b[49m\u001b[43mvalues\u001b[49m\u001b[43m,\u001b[49m\u001b[43m \u001b[49m\u001b[43mdtype\u001b[49m\u001b[43m,\u001b[49m\u001b[43m \u001b[49m\u001b[43mcopy\u001b[49m\u001b[38;5;241;43m=\u001b[39;49m\u001b[43mcopy\u001b[49m\u001b[43m,\u001b[49m\u001b[43m \u001b[49m\u001b[43merrors\u001b[49m\u001b[38;5;241;43m=\u001b[39;49m\u001b[43merrors\u001b[49m\u001b[43m)\u001b[49m\n\u001b[0;32m    618\u001b[0m new_values \u001b[38;5;241m=\u001b[39m maybe_coerce_values(new_values)\n\u001b[0;32m    620\u001b[0m refs \u001b[38;5;241m=\u001b[39m \u001b[38;5;28;01mNone\u001b[39;00m\n",
      "File \u001b[1;32md:\\Anaconda\\lib\\site-packages\\pandas\\core\\dtypes\\astype.py:238\u001b[0m, in \u001b[0;36mastype_array_safe\u001b[1;34m(values, dtype, copy, errors)\u001b[0m\n\u001b[0;32m    235\u001b[0m     dtype \u001b[38;5;241m=\u001b[39m dtype\u001b[38;5;241m.\u001b[39mnumpy_dtype\n\u001b[0;32m    237\u001b[0m \u001b[38;5;28;01mtry\u001b[39;00m:\n\u001b[1;32m--> 238\u001b[0m     new_values \u001b[38;5;241m=\u001b[39m \u001b[43mastype_array\u001b[49m\u001b[43m(\u001b[49m\u001b[43mvalues\u001b[49m\u001b[43m,\u001b[49m\u001b[43m \u001b[49m\u001b[43mdtype\u001b[49m\u001b[43m,\u001b[49m\u001b[43m \u001b[49m\u001b[43mcopy\u001b[49m\u001b[38;5;241;43m=\u001b[39;49m\u001b[43mcopy\u001b[49m\u001b[43m)\u001b[49m\n\u001b[0;32m    239\u001b[0m \u001b[38;5;28;01mexcept\u001b[39;00m (\u001b[38;5;167;01mValueError\u001b[39;00m, \u001b[38;5;167;01mTypeError\u001b[39;00m):\n\u001b[0;32m    240\u001b[0m     \u001b[38;5;66;03m# e.g. _astype_nansafe can fail on object-dtype of strings\u001b[39;00m\n\u001b[0;32m    241\u001b[0m     \u001b[38;5;66;03m#  trying to convert to float\u001b[39;00m\n\u001b[0;32m    242\u001b[0m     \u001b[38;5;28;01mif\u001b[39;00m errors \u001b[38;5;241m==\u001b[39m \u001b[38;5;124m\"\u001b[39m\u001b[38;5;124mignore\u001b[39m\u001b[38;5;124m\"\u001b[39m:\n",
      "File \u001b[1;32md:\\Anaconda\\lib\\site-packages\\pandas\\core\\dtypes\\astype.py:183\u001b[0m, in \u001b[0;36mastype_array\u001b[1;34m(values, dtype, copy)\u001b[0m\n\u001b[0;32m    180\u001b[0m     values \u001b[38;5;241m=\u001b[39m values\u001b[38;5;241m.\u001b[39mastype(dtype, copy\u001b[38;5;241m=\u001b[39mcopy)\n\u001b[0;32m    182\u001b[0m \u001b[38;5;28;01melse\u001b[39;00m:\n\u001b[1;32m--> 183\u001b[0m     values \u001b[38;5;241m=\u001b[39m \u001b[43m_astype_nansafe\u001b[49m\u001b[43m(\u001b[49m\u001b[43mvalues\u001b[49m\u001b[43m,\u001b[49m\u001b[43m \u001b[49m\u001b[43mdtype\u001b[49m\u001b[43m,\u001b[49m\u001b[43m \u001b[49m\u001b[43mcopy\u001b[49m\u001b[38;5;241;43m=\u001b[39;49m\u001b[43mcopy\u001b[49m\u001b[43m)\u001b[49m\n\u001b[0;32m    185\u001b[0m \u001b[38;5;66;03m# in pandas we don't store numpy str dtypes, so convert to object\u001b[39;00m\n\u001b[0;32m    186\u001b[0m \u001b[38;5;28;01mif\u001b[39;00m \u001b[38;5;28misinstance\u001b[39m(dtype, np\u001b[38;5;241m.\u001b[39mdtype) \u001b[38;5;129;01mand\u001b[39;00m \u001b[38;5;28missubclass\u001b[39m(values\u001b[38;5;241m.\u001b[39mdtype\u001b[38;5;241m.\u001b[39mtype, \u001b[38;5;28mstr\u001b[39m):\n",
      "File \u001b[1;32md:\\Anaconda\\lib\\site-packages\\pandas\\core\\dtypes\\astype.py:101\u001b[0m, in \u001b[0;36m_astype_nansafe\u001b[1;34m(arr, dtype, copy, skipna)\u001b[0m\n\u001b[0;32m     96\u001b[0m     \u001b[38;5;28;01mreturn\u001b[39;00m lib\u001b[38;5;241m.\u001b[39mensure_string_array(\n\u001b[0;32m     97\u001b[0m         arr, skipna\u001b[38;5;241m=\u001b[39mskipna, convert_na_value\u001b[38;5;241m=\u001b[39m\u001b[38;5;28;01mFalse\u001b[39;00m\n\u001b[0;32m     98\u001b[0m     )\u001b[38;5;241m.\u001b[39mreshape(shape)\n\u001b[0;32m    100\u001b[0m \u001b[38;5;28;01melif\u001b[39;00m np\u001b[38;5;241m.\u001b[39missubdtype(arr\u001b[38;5;241m.\u001b[39mdtype, np\u001b[38;5;241m.\u001b[39mfloating) \u001b[38;5;129;01mand\u001b[39;00m dtype\u001b[38;5;241m.\u001b[39mkind \u001b[38;5;129;01min\u001b[39;00m \u001b[38;5;124m\"\u001b[39m\u001b[38;5;124miu\u001b[39m\u001b[38;5;124m\"\u001b[39m:\n\u001b[1;32m--> 101\u001b[0m     \u001b[38;5;28;01mreturn\u001b[39;00m \u001b[43m_astype_float_to_int_nansafe\u001b[49m\u001b[43m(\u001b[49m\u001b[43marr\u001b[49m\u001b[43m,\u001b[49m\u001b[43m \u001b[49m\u001b[43mdtype\u001b[49m\u001b[43m,\u001b[49m\u001b[43m \u001b[49m\u001b[43mcopy\u001b[49m\u001b[43m)\u001b[49m\n\u001b[0;32m    103\u001b[0m \u001b[38;5;28;01melif\u001b[39;00m arr\u001b[38;5;241m.\u001b[39mdtype \u001b[38;5;241m==\u001b[39m \u001b[38;5;28mobject\u001b[39m:\n\u001b[0;32m    104\u001b[0m     \u001b[38;5;66;03m# if we have a datetime/timedelta array of objects\u001b[39;00m\n\u001b[0;32m    105\u001b[0m     \u001b[38;5;66;03m# then coerce to datetime64[ns] and use DatetimeArray.astype\u001b[39;00m\n\u001b[0;32m    107\u001b[0m     \u001b[38;5;28;01mif\u001b[39;00m lib\u001b[38;5;241m.\u001b[39mis_np_dtype(dtype, \u001b[38;5;124m\"\u001b[39m\u001b[38;5;124mM\u001b[39m\u001b[38;5;124m\"\u001b[39m):\n",
      "File \u001b[1;32md:\\Anaconda\\lib\\site-packages\\pandas\\core\\dtypes\\astype.py:146\u001b[0m, in \u001b[0;36m_astype_float_to_int_nansafe\u001b[1;34m(values, dtype, copy)\u001b[0m\n\u001b[0;32m    142\u001b[0m \u001b[38;5;250m\u001b[39m\u001b[38;5;124;03m\"\"\"\u001b[39;00m\n\u001b[0;32m    143\u001b[0m \u001b[38;5;124;03mastype with a check preventing converting NaN to an meaningless integer value.\u001b[39;00m\n\u001b[0;32m    144\u001b[0m \u001b[38;5;124;03m\"\"\"\u001b[39;00m\n\u001b[0;32m    145\u001b[0m \u001b[38;5;28;01mif\u001b[39;00m \u001b[38;5;129;01mnot\u001b[39;00m np\u001b[38;5;241m.\u001b[39misfinite(values)\u001b[38;5;241m.\u001b[39mall():\n\u001b[1;32m--> 146\u001b[0m     \u001b[38;5;28;01mraise\u001b[39;00m IntCastingNaNError(\n\u001b[0;32m    147\u001b[0m         \u001b[38;5;124m\"\u001b[39m\u001b[38;5;124mCannot convert non-finite values (NA or inf) to integer\u001b[39m\u001b[38;5;124m\"\u001b[39m\n\u001b[0;32m    148\u001b[0m     )\n\u001b[0;32m    149\u001b[0m \u001b[38;5;28;01mif\u001b[39;00m dtype\u001b[38;5;241m.\u001b[39mkind \u001b[38;5;241m==\u001b[39m \u001b[38;5;124m\"\u001b[39m\u001b[38;5;124mu\u001b[39m\u001b[38;5;124m\"\u001b[39m:\n\u001b[0;32m    150\u001b[0m     \u001b[38;5;66;03m# GH#45151\u001b[39;00m\n\u001b[0;32m    151\u001b[0m     \u001b[38;5;28;01mif\u001b[39;00m \u001b[38;5;129;01mnot\u001b[39;00m (values \u001b[38;5;241m>\u001b[39m\u001b[38;5;241m=\u001b[39m \u001b[38;5;241m0\u001b[39m)\u001b[38;5;241m.\u001b[39mall():\n",
      "\u001b[1;31mIntCastingNaNError\u001b[0m: Cannot convert non-finite values (NA or inf) to integer"
     ]
    }
   ],
   "source": [
    "# 改变jobId的数据类型为整数，如果有缺失值则用-1填充，转换timestamp的数据类型为日期，转换participantId的数据类型为整数\n",
    "df['jobId'] = df['jobId'].fillna(-1).astype(int)\n",
    "df['timestamp'] = pd.to_datetime(df['timestamp'])\n"
   ]
  },
  {
   "cell_type": "code",
   "execution_count": 18,
   "metadata": {},
   "outputs": [
    {
     "name": "stdout",
     "output_type": "stream",
     "text": [
      "participantId\n",
      "347.0    129279\n",
      "370.0    129279\n",
      "357.0    129279\n",
      "359.0    129279\n",
      "360.0    129279\n",
      "          ...  \n",
      "853.0      1152\n",
      "855.0      1152\n",
      "761.0      1152\n",
      "602.0      1152\n",
      "567.0      1152\n",
      "Name: count, Length: 1011, dtype: int64\n"
     ]
    }
   ],
   "source": [
    "# 分析participantId的分布\n",
    "print(df['participantId'].value_counts())\n"
   ]
  },
  {
   "cell_type": "code",
   "execution_count": 19,
   "metadata": {},
   "outputs": [
    {
     "name": "stdout",
     "output_type": "stream",
     "text": [
      "1\n"
     ]
    }
   ],
   "source": [
    "# 分析participantId的缺失值\n",
    "print(df['participantId'].isnull().sum())"
   ]
  },
  {
   "cell_type": "code",
   "execution_count": 20,
   "metadata": {},
   "outputs": [],
   "source": [
    "# 删除participantId的缺失值所在的行\n",
    "df = df.dropna(subset=['participantId'])"
   ]
  },
  {
   "cell_type": "code",
   "execution_count": 21,
   "metadata": {},
   "outputs": [],
   "source": [
    "df['participantId'] = df['participantId'].astype(int)"
   ]
  },
  {
   "cell_type": "code",
   "execution_count": 23,
   "metadata": {},
   "outputs": [
    {
     "name": "stderr",
     "output_type": "stream",
     "text": [
      "C:\\Users\\19601\\AppData\\Local\\Temp\\ipykernel_11076\\1918435100.py:2: UserWarning: Converting to PeriodArray/Index representation will drop timezone information.\n",
      "  df['month'] = df['timestamp'].dt.to_period('M')\n"
     ]
    }
   ],
   "source": [
    "# 将日期时间转换为月份\n",
    "df['month'] = df['timestamp'].dt.to_period('M')\n",
    "\n",
    "# 按月份分割数据\n",
    "monthly_dfs = {month: group for month, group in df.groupby('month')}"
   ]
  },
  {
   "cell_type": "code",
   "execution_count": 24,
   "metadata": {},
   "outputs": [
    {
     "name": "stdout",
     "output_type": "stream",
     "text": [
      "     month                                             jobIds\n",
      "0  2022-03  [254, 929, 348, 316, 177, 33, 89, 270, 20, 21,...\n",
      "1  2022-04  [254, 929, 348, 316, 177, 33, 89, 270, 20, 21,...\n",
      "2  2022-05  [254, 929, 348, 316, 177, 33, 89, 270, 20, 21,...\n",
      "3  2022-06  [254, 929, 348, 316, 177, 33, 89, 270, 20, 21,...\n",
      "4  2022-07  [254, 929, 348, 316, 177, 33, 89, 270, 20, 21,...\n"
     ]
    }
   ],
   "source": [
    "# 按月份分组，然后列出每组中的所有 jobId\n",
    "job_ids = df.groupby('month')['jobId'].apply(list).reset_index(name='jobIds')\n",
    "\n",
    "# 显示前5行数据\n",
    "print(job_ids.head())"
   ]
  },
  {
   "cell_type": "code",
   "execution_count": 25,
   "metadata": {},
   "outputs": [],
   "source": [
    "# 将 jobId 列中的列表展开为多行\n",
    "exploded_df = job_ids.explode('jobIds')\n",
    "\n",
    "# 将结果输出为 CSV 文件\n",
    "exploded_df.to_csv('monthly_job_ids.csv', index=False)"
   ]
  },
  {
   "cell_type": "code",
   "execution_count": 26,
   "metadata": {},
   "outputs": [],
   "source": [
    "# 读取'Attributes/Jobs.csv'文件\n",
    "df2 = pd.read_csv('Attributes/Jobs.csv')\n",
    "\n",
    "# 根据df2建立一个字典，key为df2[jobId]，value为df2[employerId]\n",
    "job_employer_dict = dict(zip(df2['jobId'], df2['employerId']))"
   ]
  },
  {
   "cell_type": "code",
   "execution_count": 27,
   "metadata": {},
   "outputs": [
    {
     "name": "stdout",
     "output_type": "stream",
     "text": [
      "     month jobIds  employerId\n",
      "0  2022-03    254       424.0\n",
      "0  2022-03    929      1321.0\n",
      "0  2022-03    348       440.0\n",
      "0  2022-03    316       436.0\n",
      "0  2022-03    177       411.0\n"
     ]
    }
   ],
   "source": []
  },
  {
   "cell_type": "code",
   "execution_count": null,
   "metadata": {},
   "outputs": [],
   "source": [
    "# 根据job_employer_dict, 将jobId转换为employerId\n",
    "exploded_df['employerId'] = exploded_df['jobIds'].map(job_employer_dict)"
   ]
  },
  {
   "cell_type": "code",
   "execution_count": 29,
   "metadata": {},
   "outputs": [],
   "source": [
    "# 删除employerId中的缺失值所在的行\n",
    "exploded_df = exploded_df.dropna(subset=['employerId'])\n",
    "\n"
   ]
  },
  {
   "cell_type": "code",
   "execution_count": 30,
   "metadata": {},
   "outputs": [
    {
     "name": "stdout",
     "output_type": "stream",
     "text": [
      "     month jobIds  employerId\n",
      "0  2022-03    254         424\n",
      "0  2022-03    929        1321\n",
      "0  2022-03    348         440\n",
      "0  2022-03    316         436\n",
      "0  2022-03    177         411\n"
     ]
    }
   ],
   "source": [
    "# 将employerId列作为int\n",
    "exploded_df['employerId'] = exploded_df['employerId'].astype(int)\n",
    "\n",
    "print(exploded_df.head())"
   ]
  },
  {
   "cell_type": "code",
   "execution_count": 34,
   "metadata": {},
   "outputs": [
    {
     "name": "stdout",
     "output_type": "stream",
     "text": [
      "jobIds\n",
      "521    8840\n",
      "724    8840\n",
      "520    8840\n",
      "679    8840\n",
      "645    8840\n",
      "       ... \n",
      "378       1\n",
      "380       1\n",
      "589       1\n",
      "525       1\n",
      "792       1\n",
      "Name: count, Length: 1190, dtype: int64\n"
     ]
    }
   ],
   "source": [
    "# 统计三月份的jobId的分布\n",
    "print(exploded_df[exploded_df['month'] == '2022-03']['jobIds'].value_counts())"
   ]
  },
  {
   "cell_type": "code",
   "execution_count": 35,
   "metadata": {},
   "outputs": [
    {
     "name": "stdout",
     "output_type": "stream",
     "text": [
      "employerId\n",
      "1771    70937\n",
      "877     70718\n",
      "1786    70716\n",
      "883     70713\n",
      "876     62897\n",
      "        ...  \n",
      "875      8841\n",
      "379      8839\n",
      "835       628\n",
      "832       223\n",
      "858       105\n",
      "Name: count, Length: 252, dtype: int64\n"
     ]
    }
   ],
   "source": [
    "# 统计三月份employerId的分布，保留dataframe格式, 留下month列和employerId列\n",
    "employerId_3 = exploded_df[exploded_df['month'] == '2022-03'][['month', 'employerId']]\n",
    "print(employerId_3['employerId'].value_counts())"
   ]
  },
  {
   "cell_type": "code",
   "execution_count": null,
   "metadata": {},
   "outputs": [],
   "source": []
  },
  {
   "cell_type": "code",
   "execution_count": 36,
   "metadata": {},
   "outputs": [],
   "source": [
    "# 将22三月份的结果输出为 CSV 文件\n",
    "exploded_df[exploded_df['month'] == '2022-03'].to_csv('employer_2022-03.csv', index=False)"
   ]
  },
  {
   "cell_type": "code",
   "execution_count": null,
   "metadata": {},
   "outputs": [],
   "source": [
    "# 统计每个月份的总计行数\n",
    "monthly_counts = df['month'].value_counts().reset_index()\n"
   ]
  },
  {
   "cell_type": "code",
   "execution_count": 41,
   "metadata": {},
   "outputs": [
    {
     "name": "stdout",
     "output_type": "stream",
     "text": [
      "      month    count\n",
      "0   2022-03  7937441\n",
      "1   2022-05  7856640\n",
      "2   2022-07  7856640\n",
      "3   2022-08  7856640\n",
      "4   2022-10  7856640\n",
      "5   2022-12  7856640\n",
      "6   2023-01  7856640\n",
      "7   2023-03  7856640\n",
      "8   2022-04  7603200\n",
      "9   2022-06  7603200\n",
      "10  2022-09  7603200\n",
      "11  2022-11  7603200\n",
      "12  2023-04  7603200\n",
      "13  2023-02  7096319\n",
      "14  2023-05  5877494\n"
     ]
    }
   ],
   "source": [
    "print(monthly_counts)"
   ]
  },
  {
   "cell_type": "code",
   "execution_count": 55,
   "metadata": {},
   "outputs": [
    {
     "data": {
      "image/png": "[encoded data removed]",
      "text/plain": [
       "<Figure size 640x480 with 1 Axes>"
      ]
     },
     "metadata": {},
     "output_type": "display_data"
    }
   ],
   "source": [
    "# 先把month转化为日期类型以进行排序\n",
    "new_df = monthly_counts.copy()\n",
    "new_df['month'] = (new_df['month']).dt.to_timestamp()\n",
    "\n",
    "# 排序\n",
    "new_df = new_df.sort_values(by='month')\n",
    "\n",
    "new_df.to_csv('monthly_counts.csv', index=False, header=['month', 'count'])\n",
    "\n",
    "import matplotlib.pyplot as plt\n",
    "# 绘制折线图\n",
    "plt.plot(new_df['month'], new_df['count'])\n",
    "plt.xlabel('Month')\n",
    "plt.ylabel('Count')\n",
    "plt.title('Monthly Counts')\n",
    "plt.xticks(rotation=45)\n",
    "plt.tight_layout()\n",
    "plt.show()"
   ]
  },
  {
   "cell_type": "code",
   "execution_count": 43,
   "metadata": {},
   "outputs": [
    {
     "name": "stdout",
     "output_type": "stream",
     "text": [
      "      month  employer_count\n",
      "0   2022-03             252\n",
      "1   2022-04             249\n",
      "2   2022-05             248\n",
      "3   2022-06             248\n",
      "4   2022-07             248\n",
      "5   2022-08             248\n",
      "6   2022-09             248\n",
      "7   2022-10             248\n",
      "8   2022-11             248\n",
      "9   2022-12             248\n",
      "10  2023-01             248\n",
      "11  2023-02             248\n",
      "12  2023-03             248\n",
      "13  2023-04             248\n",
      "14  2023-05             248\n"
     ]
    }
   ],
   "source": [
    "# 统计每个月份不同的emplyerId的数量\n",
    "employer_counts = exploded_df.groupby('month')['employerId'].nunique().reset_index(name='employer_count')\n",
    "\n",
    "print(employer_counts)"
   ]
  },
  {
   "cell_type": "code",
   "execution_count": 44,
   "metadata": {},
   "outputs": [],
   "source": [
    "# 将22七月份的结果输出为 CSV 文件\n",
    "exploded_df[exploded_df['month'] == '2022-07'].to_csv('employer_2022-07.csv', index=False)\n",
    "\n",
    "# 将23五月份的结果输出为 CSV 文件\n",
    "exploded_df[exploded_df['month'] == '2023-05'].to_csv('employer_2023-05.csv', index=False)"
   ]
  },
  {
   "cell_type": "markdown",
   "metadata": {},
   "source": [
    "## 分析DF"
   ]
  },
  {
   "cell_type": "code",
   "execution_count": 56,
   "metadata": {},
   "outputs": [
    {
     "name": "stdout",
     "output_type": "stream",
     "text": [
      "   participantId  jobId first_month last_month   count\n",
      "0              0    254     2022-03    2023-05  129278\n",
      "1              1    929     2022-03    2023-05  129278\n",
      "2              2    348     2022-03    2023-05  129278\n",
      "3              3    316     2022-03    2023-05  129278\n",
      "4              4    177     2022-03    2023-05  129225\n"
     ]
    }
   ],
   "source": [
    "# 计算(participantId, jobId)出现的次数，第一次出现的month和最后一次出现的month\n",
    "first_last_month = df.groupby(['participantId', 'jobId']).agg(first_month=('month', 'first'), last_month=('month', 'last'), count=('month', 'count')).reset_index()\n",
    "\n",
    "print(first_last_month.head())"
   ]
  },
  {
   "cell_type": "code",
   "execution_count": null,
   "metadata": {},
   "outputs": [],
   "source": [
    "# 增加一列job_time,表示last_month和first_month的时间差\n",
    "first_last_month['job_time'] = first_last_month['last_month'] - first_last_month['first_month']\n",
    "\n",
    "# 将period形式的'job_time'改为整数\n",
    "first_last_month['job_time'] = first_last_month['job_time'].apply(lambda x: x.n)\n"
   ]
  },
  {
   "cell_type": "code",
   "execution_count": 73,
   "metadata": {},
   "outputs": [
    {
     "name": "stdout",
     "output_type": "stream",
     "text": [
      "   participantId  jobId first_month last_month   count  job_time  employerId\n",
      "0              0    254     2022-03    2023-05  129278        14         424\n",
      "1              1    929     2022-03    2023-05  129278        14        1321\n",
      "2              2    348     2022-03    2023-05  129278        14         440\n",
      "3              3    316     2022-03    2023-05  129278        14         436\n",
      "4              4    177     2022-03    2023-05  129225        14         411\n"
     ]
    }
   ],
   "source": [
    "# 根据job_employer_dict, 增加一列employerId\n",
    "\n",
    "first_last_month['employerId'] = first_last_month['jobId'].map(job_employer_dict)\n",
    "\n",
    "# 清除NA值\n",
    "first_last_month = first_last_month.dropna(subset=['employerId'])\n",
    "\n",
    "# 将employerId列作为int\n",
    "first_last_month['employerId'] = first_last_month['employerId'].astype(int)\n",
    "\n",
    "print(first_last_month.head())\n"
   ]
  },
  {
   "cell_type": "code",
   "execution_count": 74,
   "metadata": {},
   "outputs": [],
   "source": [
    "# 保存到csv文件\n",
    "first_last_month.to_csv('first_last_month.csv', index=False)"
   ]
  },
  {
   "cell_type": "code",
   "execution_count": 75,
   "metadata": {},
   "outputs": [
    {
     "name": "stdout",
     "output_type": "stream",
     "text": [
      "               jobId  job_time\n",
      "participantId                 \n",
      "0                  1        14\n",
      "1                  1        14\n",
      "2                  1        14\n",
      "3                  1        14\n",
      "4                  3        14\n"
     ]
    }
   ],
   "source": [
    "# 按照participantId分组，计算每个participantId的工作经历数量，每段工作经历工作时间之和\n",
    "\n",
    "participant_employment = first_last_month.groupby('participantId').agg({'jobId': 'count', 'job_time': 'sum'})\n",
    "\n",
    "print(participant_employment.head())"
   ]
  }
 ],
 "metadata": {
  "kernelspec": {
   "display_name": "tf",
   "language": "python",
   "name": "python3"
  },
  "language_info": {
   "codemirror_mode": {
    "name": "ipython",
    "version": 3
   },
   "file_extension": ".py",
   "mimetype": "text/x-python",
   "name": "python",
   "nbconvert_exporter": "python",
   "pygments_lexer": "ipython3",
   "version": "3.9.18"
  }
 },
 "nbformat": 4,
 "nbformat_minor": 2
}
