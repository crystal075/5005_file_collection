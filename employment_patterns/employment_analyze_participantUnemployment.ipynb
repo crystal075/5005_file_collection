{
 "cells": [
  {
   "cell_type": "code",
   "execution_count": 1,
   "metadata": {},
   "outputs": [
    {
     "name": "stdout",
     "output_type": "stream",
     "text": [
      "   participantId  jobId first_month last_month   count  job_time  employerId\n",
      "0              0    254     2022-03    2023-05  129278        14         424\n",
      "1              1    929     2022-03    2023-05  129278        14        1321\n",
      "2              2    348     2022-03    2023-05  129278        14         440\n",
      "3              3    316     2022-03    2023-05  129278        14         436\n",
      "4              4    177     2022-03    2023-05  129225        14         411\n"
     ]
    }
   ],
   "source": [
    "import pandas as pd\n",
    "\n",
    "# 从'first_last_month.csv'中读取数据\n",
    "first_last_month = pd.read_csv('first_last_month.csv')\n",
    "\n",
    "print(first_last_month.head())"
   ]
  },
  {
   "cell_type": "code",
   "execution_count": 2,
   "metadata": {},
   "outputs": [
    {
     "name": "stdout",
     "output_type": "stream",
     "text": [
      "               jobId  job_time\n",
      "participantId                 \n",
      "0                  1        14\n",
      "1                  1        14\n",
      "2                  1        14\n",
      "3                  1        14\n",
      "4                  3        14\n"
     ]
    }
   ],
   "source": [
    "# 按照participantId分组，计算每个participantId的工作经历数量，每段工作经历工作时间之和\n",
    "\n",
    "participant_employment = first_last_month.groupby('participantId').agg({'jobId': 'count', 'job_time': 'sum'})\n",
    "\n",
    "print(participant_employment.head())"
   ]
  },
  {
   "cell_type": "code",
   "execution_count": 3,
   "metadata": {},
   "outputs": [
    {
     "name": "stdout",
     "output_type": "stream",
     "text": [
      "               jobId  job_time  unemployment_time\n",
      "participantId                                    \n",
      "0                  1        14                  0\n",
      "1                  1        14                  0\n",
      "2                  1        14                  0\n",
      "3                  1        14                  0\n",
      "4                  3        14                  0\n"
     ]
    }
   ],
   "source": [
    "# 增加一列unemployment_time，值为14-job_time\n",
    "participant_employment['unemployment_time'] = 14 - participant_employment['job_time']\n",
    "\n",
    "print(participant_employment.head())"
   ]
  }
 ],
 "metadata": {
  "kernelspec": {
   "display_name": "tf",
   "language": "python",
   "name": "python3"
  },
  "language_info": {
   "codemirror_mode": {
    "name": "ipython",
    "version": 3
   },
   "file_extension": ".py",
   "mimetype": "text/x-python",
   "name": "python",
   "nbconvert_exporter": "python",
   "pygments_lexer": "ipython3",
   "version": "3.9.18"
  }
 },
 "nbformat": 4,
 "nbformat_minor": 2
}
