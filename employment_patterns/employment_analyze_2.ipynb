{
 "cells": [
  {
   "cell_type": "code",
   "execution_count": 2,
   "metadata": {},
   "outputs": [
    {
     "name": "stdout",
     "output_type": "stream",
     "text": [
      "                   timestamp  participantId  jobId\n",
      "0  2022-03-01 00:00:00+00:00              0    254\n",
      "1  2022-03-01 00:00:00+00:00              1    929\n",
      "2  2022-03-01 00:00:00+00:00              2    348\n",
      "3  2022-03-01 00:00:00+00:00              3    316\n",
      "4  2022-03-01 00:00:00+00:00              4    177\n"
     ]
    }
   ],
   "source": [
    "import pandas as pd\n",
    "\n",
    "# 读取CSV文件\n",
    "df = pd.read_csv('EmploymentLogs_3-1_5-2.csv')\n",
    "\n",
    "# 显示前5行数据\n",
    "print(df.head())"
   ]
  },
  {
   "cell_type": "code",
   "execution_count": 4,
   "metadata": {},
   "outputs": [
    {
     "name": "stdout",
     "output_type": "stream",
     "text": [
      "(17472901, 3)\n"
     ]
    }
   ],
   "source": [
    "# 输出数据的行数和列数\n",
    "print(df.shape)"
   ]
  },
  {
   "cell_type": "code",
   "execution_count": 3,
   "metadata": {},
   "outputs": [
    {
     "name": "stdout",
     "output_type": "stream",
     "text": [
      "jobId\n",
      "1       19674\n",
      "4       19675\n",
      "5       19675\n",
      "6       19675\n",
      "7       19675\n",
      "        ...  \n",
      "1322    19675\n",
      "1323    19675\n",
      "1324    19674\n",
      "1325     1225\n",
      "1326    19674\n",
      "Length: 1190, dtype: int64\n"
     ]
    }
   ],
   "source": [
    "# 根据jobId分组，统计每个jobId的记录数\n",
    "\n",
    "# 方法1\n",
    "print(df.groupby('jobId').size())\n"
   ]
  },
  {
   "cell_type": "code",
   "execution_count": 5,
   "metadata": {},
   "outputs": [],
   "source": [
    "# 读取'Attributes/Jobs.csv'文件\n",
    "df2 = pd.read_csv('Attributes/Jobs.csv')\n",
    "\n",
    "# 根据df2建立一个字典，key为df2[jobId]，value为df2[employerId]\n",
    "job_employer_dict = dict(zip(df2['jobId'], df2['employerId']))\n",
    "\n",
    "\n"
   ]
  },
  {
   "cell_type": "code",
   "execution_count": 6,
   "metadata": {},
   "outputs": [],
   "source": [
    "# 根据job_employer_dict, 为df添加一列employerId\n",
    "df['employerId'] = df['jobId'].map(job_employer_dict)"
   ]
  },
  {
   "cell_type": "code",
   "execution_count": 9,
   "metadata": {},
   "outputs": [],
   "source": [
    "# 根据employerId分组，统计每个employerId下，不同的jobId的记录数，并按记录数降序排列\n",
    "df_jobs_employerId = df.groupby('employerId')['jobId'].nunique().sort_values(ascending=False)\n",
    "\n",
    "# 将jobId列名改为job_count\n",
    "df_jobs_employerId = df_jobs_employerId.rename('job_count')\n",
    "\n",
    "# 保存结果到文件\n",
    "df_jobs_employerId.to_csv('df_jobs_employerId.csv', header=True)\n",
    "\n"
   ]
  },
  {
   "cell_type": "code",
   "execution_count": 10,
   "metadata": {},
   "outputs": [
    {
     "name": "stdout",
     "output_type": "stream",
     "text": [
      "count    252.000000\n",
      "mean       4.722222\n",
      "std        2.071006\n",
      "min        1.000000\n",
      "25%        3.000000\n",
      "50%        5.000000\n",
      "75%        6.000000\n",
      "max        9.000000\n",
      "Name: job_count, dtype: float64\n"
     ]
    }
   ],
   "source": [
    "# 分析df_jobs_employerId中jobs_count的分布\n",
    "print(df_jobs_employerId.describe())"
   ]
  },
  {
   "cell_type": "code",
   "execution_count": 12,
   "metadata": {},
   "outputs": [
    {
     "name": "stdout",
     "output_type": "stream",
     "text": [
      "job_count\n",
      "2    46\n",
      "5    45\n",
      "3    38\n",
      "4    35\n",
      "6    31\n",
      "7    28\n",
      "8    16\n",
      "9    12\n",
      "1     1\n",
      "Name: count, dtype: int64\n"
     ]
    },
    {
     "data": {
      "text/plain": [
       "<Axes: ylabel='count'>"
      ]
     },
     "execution_count": 12,
     "metadata": {},
     "output_type": "execute_result"
    },
    {
     "data": {
      "image/png": "[encoded data removed]",
      "text/plain": [
       "<Figure size 640x480 with 1 Axes>"
      ]
     },
     "metadata": {},
     "output_type": "display_data"
    }
   ],
   "source": [
    "# 统计每个jobs_count下的employerId的数量, 并画成饼图\n",
    "df_jobs_employerId_count = df_jobs_employerId.value_counts()\n",
    "print(df_jobs_employerId_count)\n",
    "\n",
    "df_jobs_employerId_count.plot.pie()"
   ]
  }
 ],
 "metadata": {
  "kernelspec": {
   "display_name": "tf",
   "language": "python",
   "name": "python3"
  },
  "language_info": {
   "codemirror_mode": {
    "name": "ipython",
    "version": 3
   },
   "file_extension": ".py",
   "mimetype": "text/x-python",
   "name": "python",
   "nbconvert_exporter": "python",
   "pygments_lexer": "ipython3",
   "version": "3.9.18"
  }
 },
 "nbformat": 4,
 "nbformat_minor": 2
}
